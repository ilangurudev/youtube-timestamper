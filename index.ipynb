{
 "cells": [
  {
   "cell_type": "markdown",
   "metadata": {},
   "source": [
    "# youtube_timestamper\n",
    "\n",
    "> A python library to automatically create timestamps for youtube interview videos using NLP."
   ]
  },
  {
   "cell_type": "markdown",
   "metadata": {},
   "source": [
    "## Install"
   ]
  },
  {
   "cell_type": "markdown",
   "metadata": {},
   "source": [
    "```sh\n",
    "pip install youtube-timestamper\n",
    "```"
   ]
  },
  {
   "cell_type": "markdown",
   "metadata": {},
   "source": [
    "## How to use"
   ]
  },
  {
   "cell_type": "code",
   "execution_count": null,
   "metadata": {},
   "outputs": [],
   "source": [
    "# | hide\n",
    "from IPython.display import IFrame"
   ]
  },
  {
   "cell_type": "markdown",
   "metadata": {},
   "source": [
    "In this example, we look at Sanyam Bhutani's interview of Kaggle legend Chris Deotte:"
   ]
  },
  {
   "cell_type": "code",
   "execution_count": null,
   "metadata": {},
   "outputs": [
    {
     "data": {
      "text/html": [
       "\n",
       "        <iframe\n",
       "            width=\"700\"\n",
       "            height=\"400\"\n",
       "            src=\"https://www.youtube.com/embed/QGCvycOXs2M\"\n",
       "            frameborder=\"0\"\n",
       "            allowfullscreen\n",
       "            \n",
       "        ></iframe>\n",
       "        "
      ],
      "text/plain": [
       "<IPython.lib.display.IFrame>"
      ]
     },
     "execution_count": null,
     "metadata": {},
     "output_type": "execute_result"
    }
   ],
   "source": [
    "#| echo: false\n",
    "IFrame(\"https://www.youtube.com/embed/QGCvycOXs2M\", 700, 400)"
   ]
  },
  {
   "cell_type": "markdown",
   "metadata": {},
   "source": [
    "This interview contains a wealth of knowledge but it's not timestamped with chapter divisions. This library can help create timestamped chapters by picking out the questions in Question-Answer style videos. "
   ]
  },
  {
   "cell_type": "markdown",
   "metadata": {},
   "source": [
    "To start, simply import `YoutubeTimestamper` from `youtube_timestamper.core` and pass in a youtube video url. "
   ]
  },
  {
   "cell_type": "code",
   "execution_count": null,
   "metadata": {},
   "outputs": [
    {
     "name": "stderr",
     "output_type": "stream",
     "text": [
      "/home/ilangurudev/anaconda3/envs/ds/lib/python3.9/site-packages/transformers/pipelines/token_classification.py:135: UserWarning: `grouped_entities` is deprecated and will be removed in version v5.0.0, defaulted to `aggregation_strategy=\"none\"` instead.\n",
      "  warnings.warn(\n"
     ]
    }
   ],
   "source": [
    "from youtube_timestamper.core import YoutubeTimestamper"
   ]
  },
  {
   "cell_type": "code",
   "execution_count": null,
   "metadata": {},
   "outputs": [],
   "source": [
    "yt_ts = YoutubeTimestamper(\"https://www.youtube.com/watch?v=QGCvycOXs2M\")"
   ]
  },
  {
   "cell_type": "code",
   "execution_count": null,
   "metadata": {},
   "outputs": [
    {
     "name": "stderr",
     "output_type": "stream",
     "text": [
      "/home/ilangurudev/anaconda3/envs/ds/lib/python3.9/site-packages/transformers/pipelines/base.py:1036: UserWarning: You seem to be using the pipelines sequentially on GPU. In order to maximize efficiency please use a dataset\n",
      "  warnings.warn(\n"
     ]
    },
    {
     "name": "stdout",
     "output_type": "stream",
     "text": [
      "00:00:00 Introduction\n",
      "00:01:08 how did he transition into data science and cargill and his journey on kaggle?\n",
      "00:02:23 can you tell us a bit more about that, chris, now that you remember of it the secret?\n",
      "00:02:48 did you get your invite to the fight clubs yet, or can you share a bit about those?\n",
      "00:04:44 then i, um i graduated with a bachelor's degree in mathematics and then, um, immediately afterwards, i?\n",
      "00:07:19 when did kaggle come into the picture? when did you find your addiction for kagan?\n",
      "00:08:28 you know you build a model and is your model more accurate than the other guy's model?\n",
      "00:10:15 how did you go from just starting your journey to today being the forex grandmaster? how would you advise? what should they read? what should they learn? do you think there's such a list?\n",
      "00:11:49 was it part of the enjoyment process, just getting involved, or were you making a conscious effort to? you know, maybe list down points where you need to improve?\n",
      "00:12:40 and even if a competition or something looks similar to a previous one, i say to myself: you know, what new angle can i do here? you know what new thing can i learn?\n",
      "00:13:49 any favorite battle stories you that you might remember?\n",
      "00:14:33 so there's many competitions and you see the leaderboard and there's a bunch of scores and there's, you know, the top 50, they have a little bit of a jump, and there's and people in the forum say: you know magic, what's the magic?\n",
      "00:16:03 um, do you, do you have any uh, rigid approach to competitions now, or did you compete in any in parallel, or do you just stick to one? and what's your approach in general to competitions now?\n",
      "00:22:05 so, and that's something that i also enjoy very much- on the flip side, do you feel you're also losing a competitive edge?\n",
      "00:25:45 thank you, um, what advice would you have for uh, newbies who are looking to write kernels?\n",
      "00:30:58 what, what advice would you have for them? they're just chasing uh, maybe the title, since it's gamified, does it annoy you? do you have any uh advice for such people?\n",
      "00:32:51 uh, any favorite memories from discussions that you might have?\n",
      "00:34:37 and then someone says, wow, that's awesome, hey, have you thought about doing this?\n",
      "00:35:35 um, what advice would you have for people who people, many people, seek teaming up because they may be asking to just compete by themselves? but what teaming advice would you have for people in general? or what's your strategy?\n",
      "00:38:47 what's your reason for investing so much time into kagan?\n",
      "00:38:58 you know people might see it and say, why is he doing so much for the community? you know, how have i, how have i, you know, learned these ideas so well?\n",
      "00:43:49 pandas build psychic learn, okay, uh, but what, what the wrap is team doing is?\n",
      "00:45:38 is the desk data plotted on top of the train data or is the test data over here? like: is this group of images the same as this group of images?\n",
      "00:47:11 how do you, chris, how do you manage your time? what's, what's your secret to time management?\n",
      "00:49:44 but, as i said, you know, if someone's like, hey, can you? you know, can you follow the?\n",
      "00:50:30 uh, is it okay if we do a quick rapid fire questions? uh, a set of questions? so what would you like? so, would you like to me give short answers?\n",
      "00:51:12 okay, a favorite course that you've taught? uh, i'm not sure if you've taught a few or was it just a single one? oh, okay, yeah, so, uh, favorite course?\n",
      "00:52:11 do you know that? the derivative is exactly what your brain uses for you to learn something?\n",
      "00:52:38 okay, um, favorite algorithm?\n",
      "00:52:54 it's just how do you classify this guy? well, how do you class with this data point?\n",
      "00:53:55 okay, um, favorite competition that you've taken part in?\n",
      "00:55:20 you're refreshing your computer, refreshing your computer, how did i do? how did i do? it's unbelievable, right?\n",
      "01:00:28 um, what would be your favorite spot to surf? wait, favorite what sport? to windsurf?\n",
      "01:01:24 uh, your favorite way to unwind, uh, from data science or kaggle?\n",
      "\n",
      "Created using youtube-timestamper (https://ilangurudev.github.io/youtube-timestamper/)\n"
     ]
    }
   ],
   "source": [
    "yt_ts.suggest_question_timestamps(next_q_thresh=20)"
   ]
  },
  {
   "cell_type": "markdown",
   "metadata": {},
   "source": [
    "---\n",
    "\n",
    "A nice starting point! As we can see, \n",
    "\n",
    "- The suggestions contain *all questions* - that means the interviewee's questions too (*and then someone says, wow, that's awesome, hey, have you thought about doing this?*). \n",
    "- Sometimes the questions don't provide the complete context - they look like tarantino chapter titles. (*i mean, how does a computer know how to draw dogs?*)\n",
    "- The questions are too long and need to be summarized. (*how did you go from just starting your journey to today being the forex grandmaster? how would you advise? what should they read? what should they learn? do you think there's such a list?*)\n",
    "- The youtube transcripts also contain a ton of typos (*kagan, forex grandmaster*)\n",
    "- Sometimes some questions are missed - the model is not perfect. \n",
    "\n",
    "But I can just edit these timestamps and clean them up quickly manually as opposed tostarting from scratch. I remove\n",
    "\n",
    "- Irrelevant questions\n",
    "- Summarize questions neatly (and sometimes go back to the video to get enough context)\n",
    "- Correct typos\n",
    "- Look for large gaps where there are no chapters and manually insert titles if need be. "
   ]
  },
  {
   "cell_type": "markdown",
   "metadata": {},
   "source": [
    "00:00:00 Introduction<br />\n",
    "00:02:23 Secret to Kaggle Success<br />\n",
    "00:02:48 Exclusive Kaggle Fight Club Invites LOL<br />\n",
    "00:04:21 Life leading up to Kaggle<br />\n",
    "00:07:19 Beginning of addiction to Kaggle<br />\n",
    "00:10:15 Journey to 4x Grandmaster and Tips<br />\n",
    "00:11:49 Motivation to Kaggle - Fun or Improvement<br />\n",
    "00:13:39 Favorite battle stories<br />\n",
    "00:16:03 Approach to Competitions<br />\n",
    "00:25:45 Advice for newbies looking to write kernels<br />\n",
    "00:30:58 Advice for people who span kaggle forums in search of titles<br />\n",
    "00:32:51 Favorite memories from discussions<br />\n",
    "00:35:35 Teaming Strategy and Advice<br />\n",
    "00:38:47 Reason for investing so much time into Kaggle<br />\n",
    "00:43:30 Rapids<br />\n",
    "00:47:11 Secret to time management<br />\n",
    "00:50:30 Rapid Fire<br />\n",
    "00:51:12 Favorite Course that you've taught<br />\n",
    "00:52:38 Favorite Algorithm<br />\n",
    "00:53:55 Favorite Competition so far<br />\n",
    "01:00:28 Favorite spot to surf<br />\n",
    "01:01:24 Favorite way to unwind from data science and Kaggle<br />\n",
    "\n",
    "\n",
    "Created using youtube-timestamper (https://ilangurudev.github.io/youtube-timestamper/)"
   ]
  },
  {
   "cell_type": "markdown",
   "metadata": {},
   "source": [
    "Now simply copy paste as a comment in the video! "
   ]
  },
  {
   "cell_type": "code",
   "execution_count": null,
   "metadata": {},
   "outputs": [],
   "source": []
  }
 ],
 "metadata": {
  "kernelspec": {
   "display_name": "Python [conda env:ds]",
   "language": "python",
   "name": "conda-env-ds-py"
  }
 },
 "nbformat": 4,
 "nbformat_minor": 4
}
