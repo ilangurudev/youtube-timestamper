{
 "cells": [
  {
   "cell_type": "code",
   "execution_count": null,
   "metadata": {},
   "outputs": [],
   "source": [
    "#| default_exp core"
   ]
  },
  {
   "cell_type": "markdown",
   "metadata": {},
   "source": [
    "# core\n",
    "\n",
    "> Core functionality of `YoutubeTimestamper` "
   ]
  },
  {
   "cell_type": "code",
   "execution_count": null,
   "metadata": {},
   "outputs": [],
   "source": [
    "# | hide\n",
    "from nbdev.showdoc import *"
   ]
  },
  {
   "cell_type": "code",
   "execution_count": null,
   "metadata": {},
   "outputs": [],
   "source": [
    "%reload_ext lab_black"
   ]
  },
  {
   "cell_type": "code",
   "execution_count": null,
   "metadata": {},
   "outputs": [],
   "source": [
    "# | export\n",
    "from urllib.parse import urlparse, parse_qs\n",
    "from contextlib import suppress\n",
    "\n",
    "from youtube_transcript_api import YouTubeTranscriptApi\n",
    "from deepmultilingualpunctuation import PunctuationModel\n",
    "import spacy\n",
    "from spacy.lang.en import English\n",
    "from fastcore.all import *\n",
    "import datetime\n",
    "import re"
   ]
  },
  {
   "cell_type": "markdown",
   "metadata": {},
   "source": [
    "The program flow for generating timestamps is relatively simple:\n",
    "\n",
    "1. Get the id from the youtube video url passed\n",
    "2. Fetch the transcripts from the id and concatenate them\n",
    "3. Use `deepmultilingualpunctuation` to restore punctuations\n",
    "4. Use `spacy` to split into senteces\n",
    "5. Get sentences that have `?` and match them up with the timestamps"
   ]
  },
  {
   "cell_type": "code",
   "execution_count": null,
   "metadata": {},
   "outputs": [
    {
     "name": "stderr",
     "output_type": "stream",
     "text": [
      "/home/ilangurudev/anaconda3/envs/ds/lib/python3.9/site-packages/transformers/pipelines/token_classification.py:135: UserWarning: `grouped_entities` is deprecated and will be removed in version v5.0.0, defaulted to `aggregation_strategy=\"none\"` instead.\n",
      "  warnings.warn(\n"
     ]
    }
   ],
   "source": [
    "# | export\n",
    "class YoutubeTimestamper:\n",
    "    \"\"\"A class that extracts the transcript from a youtube video, identifies the questions in it and attaches timestamps to them.\"\"\"\n",
    "\n",
    "    punct_model = PunctuationModel()\n",
    "    nlp = English()\n",
    "    nlp.add_pipe(\"sentencizer\")\n",
    "\n",
    "    def __init__(self, video_url: str):  # A url of a YouTube Video\n",
    "        store_attr()\n",
    "\n",
    "    __repr__ = basic_repr(\"video_url\")"
   ]
  },
  {
   "cell_type": "code",
   "execution_count": null,
   "metadata": {},
   "outputs": [
    {
     "data": {
      "text/plain": [
       "__main__.YoutubeTimestamper(video_url='https://www.youtube.com/watch?v=QGCvycOXs2M')"
      ]
     },
     "execution_count": null,
     "metadata": {},
     "output_type": "execute_result"
    }
   ],
   "source": [
    "sample_url = \"https://www.youtube.com/watch?v=QGCvycOXs2M\"\n",
    "yt_timestamper = YoutubeTimestamper(sample_url)\n",
    "yt_timestamper"
   ]
  },
  {
   "cell_type": "code",
   "execution_count": null,
   "metadata": {},
   "outputs": [],
   "source": [
    "# | export\n",
    "@patch\n",
    "def _get_yt_id(self: YoutubeTimestamper) -> None:\n",
    "    \"\"\"Extracts the id from the url\"\"\"\n",
    "    query = urlparse(self.video_url)\n",
    "    if query.hostname == \"youtu.be\":\n",
    "        return query.path[1:]\n",
    "    if query.hostname in {\"www.youtube.com\", \"youtube.com\", \"music.youtube.com\"}:\n",
    "        with suppress(KeyError):\n",
    "            return parse_qs(query.query)[\"list\"][0]\n",
    "        if query.path == \"/watch\":\n",
    "            return parse_qs(query.query)[\"v\"][0]\n",
    "        if query.path[:7] == \"/watch/\":\n",
    "            return query.path.split(\"/\")[1]\n",
    "        if query.path[:7] == \"/embed/\":\n",
    "            return query.path.split(\"/\")[2]\n",
    "        if query.path[:3] == \"/v/\":\n",
    "            return query.path.split(\"/\")[2]"
   ]
  },
  {
   "cell_type": "code",
   "execution_count": null,
   "metadata": {},
   "outputs": [
    {
     "data": {
      "text/plain": [
       "'https://www.youtube.com/watch?v=QGCvycOXs2M'"
      ]
     },
     "execution_count": null,
     "metadata": {},
     "output_type": "execute_result"
    }
   ],
   "source": [
    "yt_timestamper.video_url"
   ]
  },
  {
   "cell_type": "code",
   "execution_count": null,
   "metadata": {},
   "outputs": [],
   "source": [
    "test_eq(yt_timestamper._get_yt_id(), \"QGCvycOXs2M\")"
   ]
  },
  {
   "cell_type": "markdown",
   "metadata": {},
   "source": [
    "## Get transcripts from the id"
   ]
  },
  {
   "cell_type": "code",
   "execution_count": null,
   "metadata": {},
   "outputs": [],
   "source": [
    "# | export\n",
    "\n",
    "\n",
    "@patch\n",
    "def _get_transcript(self: YoutubeTimestamper) -> None:\n",
    "    \"\"\"Fetches the transcripts for the video using the `youtube_transcript_api` package and stores it in the `transcript` variable.\"\"\"\n",
    "    self._yt_transcript_api = YouTubeTranscriptApi()\n",
    "    video_id = self._get_yt_id()\n",
    "    self.transcript = self._yt_transcript_api.get_transcript(video_id)\n",
    "    self._transcript_str = \" \".join([ts[\"text\"] for ts in self.transcript])"
   ]
  },
  {
   "cell_type": "code",
   "execution_count": null,
   "metadata": {},
   "outputs": [],
   "source": [
    "yt_timestamper._get_transcript()"
   ]
  },
  {
   "cell_type": "code",
   "execution_count": null,
   "metadata": {},
   "outputs": [
    {
     "data": {
      "text/plain": [
       "[{'text': '[Music]', 'start': 1.28, 'duration': 12.54},\n",
       " {'text': \"hey this is sayam bhutani and you're\",\n",
       "  'start': 13.92,\n",
       "  'duration': 2.56},\n",
       " {'text': 'listening to', 'start': 15.679, 'duration': 3.68}]"
      ]
     },
     "execution_count": null,
     "metadata": {},
     "output_type": "execute_result"
    }
   ],
   "source": [
    "yt_timestamper.transcript[:3]"
   ]
  },
  {
   "cell_type": "markdown",
   "metadata": {},
   "source": [
    "This is the raw unpunctuated transcript"
   ]
  },
  {
   "cell_type": "code",
   "execution_count": null,
   "metadata": {},
   "outputs": [
    {
     "data": {
      "text/plain": [
       "\"[Music] hey this is sayam bhutani and you're listening to chai time data science a podcast for data science enthusiasts where i interview practitioners researchers and calculus about their journey experience and talk all things about data science [Music] hello and welcome to quarantine chai with kaggle heroes with this new look i am interviewing the new 4x kaggle grandmaster chris dude chris has an amazing very diverse and very rich background and we connect the dots of his journey his professio\""
      ]
     },
     "execution_count": null,
     "metadata": {},
     "output_type": "execute_result"
    }
   ],
   "source": [
    "yt_timestamper._transcript_str[:500]"
   ]
  },
  {
   "cell_type": "code",
   "execution_count": null,
   "metadata": {},
   "outputs": [],
   "source": [
    "assert len(yt_timestamper.transcript) > 0\n",
    "assert \",\" not in yt_timestamper._transcript_str[:500]\n",
    "assert \".\" not in yt_timestamper._transcript_str[:500]"
   ]
  },
  {
   "cell_type": "markdown",
   "metadata": {},
   "source": [
    "## Restore Punctuations"
   ]
  },
  {
   "cell_type": "code",
   "execution_count": null,
   "metadata": {},
   "outputs": [],
   "source": [
    "# | export\n",
    "\n",
    "\n",
    "@patch\n",
    "def _restore_punctuations(self: YoutubeTimestamper) -> None:\n",
    "    \"\"\"Punctuates the transcript string\"\"\"\n",
    "    self._transcript_punct = YoutubeTimestamper.punct_model.restore_punctuation(\n",
    "        self._transcript_str\n",
    "    )"
   ]
  },
  {
   "cell_type": "code",
   "execution_count": null,
   "metadata": {},
   "outputs": [
    {
     "name": "stderr",
     "output_type": "stream",
     "text": [
      "/home/ilangurudev/anaconda3/envs/ds/lib/python3.9/site-packages/transformers/pipelines/base.py:1036: UserWarning: You seem to be using the pipelines sequentially on GPU. In order to maximize efficiency please use a dataset\n",
      "  warnings.warn(\n"
     ]
    }
   ],
   "source": [
    "yt_timestamper._restore_punctuations()"
   ]
  },
  {
   "cell_type": "markdown",
   "metadata": {},
   "source": [
    "The punctuations have now been added."
   ]
  },
  {
   "cell_type": "code",
   "execution_count": null,
   "metadata": {},
   "outputs": [
    {
     "data": {
      "text/plain": [
       "\"[Music]. hey, this is sayam bhutani and you're listening to chai time- data science, a podcast for data science enthusiasts where i interview practitioners, researchers and calculus about their journey experience and talk all things about data science. [Music]. hello and welcome to quarantine chai with kaggle heroes. with this new look, i am interviewing the new 4x kaggle grandmaster, chris dude. chris has an amazing, very diverse and very rich background and we connect the dots of his journey, \""
      ]
     },
     "execution_count": null,
     "metadata": {},
     "output_type": "execute_result"
    }
   ],
   "source": [
    "yt_timestamper._transcript_punct[:500]"
   ]
  },
  {
   "cell_type": "code",
   "execution_count": null,
   "metadata": {},
   "outputs": [],
   "source": [
    "assert \",\" in yt_timestamper._transcript_punct[:500]\n",
    "assert \".\" in yt_timestamper._transcript_punct[:500]"
   ]
  },
  {
   "cell_type": "markdown",
   "metadata": {},
   "source": [
    "## Getting questions"
   ]
  },
  {
   "cell_type": "code",
   "execution_count": null,
   "metadata": {},
   "outputs": [],
   "source": [
    "# | export\n",
    "\n",
    "\n",
    "@patch\n",
    "def _get_sentences(self: YoutubeTimestamper) -> None:\n",
    "    \"\"\"Parses the transcript into sentences using spacy's sentenciser\"\"\"\n",
    "    transcript_parsed = YoutubeTimestamper.nlp(self._transcript_punct)\n",
    "    self.transcript_sents = L(transcript_parsed.sents)"
   ]
  },
  {
   "cell_type": "code",
   "execution_count": null,
   "metadata": {},
   "outputs": [
    {
     "data": {
      "text/plain": [
       "(#5) [chris has an amazing, very diverse and very rich background and we connect the dots of his journey, his professional journey, with data science.,we talk about his previous life.,how did he transition into data science and cargill and his journey on kaggle?,chris at the time of recording has just become a forex kaggle ground master.,he's ranked 32 on the competition steer, two on the data sets tier and is currently number one in kernels and discussions.]"
      ]
     },
     "execution_count": null,
     "metadata": {},
     "output_type": "execute_result"
    }
   ],
   "source": [
    "yt_timestamper._get_sentences()\n",
    "yt_timestamper.transcript_sents[5:10]"
   ]
  },
  {
   "cell_type": "code",
   "execution_count": null,
   "metadata": {},
   "outputs": [],
   "source": [
    "assert len(yt_timestamper.transcript_sents) > 0"
   ]
  },
  {
   "cell_type": "code",
   "execution_count": null,
   "metadata": {},
   "outputs": [],
   "source": [
    "# | export\n",
    "\n",
    "\n",
    "@patch\n",
    "def _get_questions(\n",
    "    self: YoutubeTimestamper,\n",
    "    next_q_thresh: int = 15,  # The number of tokens within a question which if the next question is present, it'll be considered part of the same question\n",
    ") -> None:\n",
    "    \"\"\"Gets a continuous block of question sentences\"\"\"\n",
    "    questions = L(\"\")\n",
    "    prev_q_end = -90\n",
    "    for sent in self.transcript_sents:\n",
    "        if \"?\" in sent.text:\n",
    "            if (sent.start - prev_q_end) <= next_q_thresh:\n",
    "                questions[-1] += \" \" + sent.text\n",
    "            else:\n",
    "                questions.append(sent.text)\n",
    "            prev_q_end = sent.end\n",
    "\n",
    "    self.questions = L(q for q in questions if q.strip() != \"\")"
   ]
  },
  {
   "cell_type": "code",
   "execution_count": null,
   "metadata": {},
   "outputs": [
    {
     "data": {
      "text/plain": [
       "(#3) ['how did he transition into data science and cargill and his journey on kaggle?','can you tell us a bit more about that, chris, now that you remember of it the secret?','did you get your invite to the fight clubs yet, or can you share a bit about those?']"
      ]
     },
     "execution_count": null,
     "metadata": {},
     "output_type": "execute_result"
    }
   ],
   "source": [
    "yt_timestamper._get_questions()\n",
    "yt_timestamper.questions[:3]"
   ]
  },
  {
   "cell_type": "code",
   "execution_count": null,
   "metadata": {},
   "outputs": [],
   "source": [
    "assert len(yt_timestamper.questions) > 0"
   ]
  },
  {
   "cell_type": "code",
   "execution_count": null,
   "metadata": {},
   "outputs": [],
   "source": [
    "# | export\n",
    "\n",
    "\n",
    "@patch\n",
    "def _get_timestamps_for_questions(\n",
    "    self: YoutubeTimestamper,\n",
    ") -> None:\n",
    "    \"\"\"Matches the questions with the timestamps\"\"\"\n",
    "    timestamps = L([(0, \"Introduction\")])\n",
    "    transcript_pieces = [t for t in self.transcript]\n",
    "    for question in self.questions:\n",
    "        question_nopunct = re.sub(\"[,.?!]\", \"\", question)\n",
    "        for ts in transcript_pieces:\n",
    "            if (ts[\"text\"] in question_nopunct) and (\n",
    "                question_nopunct[10:20] in ts[\"text\"]\n",
    "            ):\n",
    "                timestamps.append((ts[\"start\"], question))\n",
    "                # print((ts[\"start\"], ts[\"text\"], question))\n",
    "                break\n",
    "        transcript_pieces.remove(ts)\n",
    "    self.timestamps = timestamps"
   ]
  },
  {
   "cell_type": "code",
   "execution_count": null,
   "metadata": {},
   "outputs": [],
   "source": [
    "yt_timestamper._get_timestamps_for_questions()\n",
    "assert len(yt_timestamper.timestamps) > 0"
   ]
  },
  {
   "cell_type": "code",
   "execution_count": null,
   "metadata": {},
   "outputs": [
    {
     "data": {
      "text/plain": [
       "(#36) [(0, 'Introduction'),(68.64, 'how did he transition into data science and cargill and his journey on kaggle?'),(143.52, 'can you tell us a bit more about that, chris, now that you remember of it the secret?'),(168.56, 'did you get your invite to the fight clubs yet, or can you share a bit about those?'),(284.479, \"then i, um i graduated with a bachelor's degree in mathematics and then, um, immediately afterwards, i?\"),(439.599, 'when did kaggle come into the picture? when did you find your addiction for kagan?'),(508.879, \"you know you build a model and is your model more accurate than the other guy's model?\"),(615.12, 'how did you go from just starting your journey to today being the forex grandmaster?'),(709.36, 'was it part of the enjoyment process, just getting involved, or were you making a conscious effort to? you know, maybe list down points where you need to improve?'),(760.079, 'and even if a competition or something looks similar to a previous one, i say to myself: you know, what new angle can i do here? you know what new thing can i learn?')...]"
      ]
     },
     "execution_count": null,
     "metadata": {},
     "output_type": "execute_result"
    }
   ],
   "source": [
    "yt_timestamper.timestamps"
   ]
  },
  {
   "cell_type": "markdown",
   "metadata": {},
   "source": [
    "## Outputs"
   ]
  },
  {
   "cell_type": "code",
   "execution_count": null,
   "metadata": {},
   "outputs": [],
   "source": [
    "# | export\n",
    "\n",
    "\n",
    "@patch\n",
    "def _render_timestamps(self: YoutubeTimestamper, limit=None) -> None:\n",
    "    \"\"\"Renders the timestamps in the right format\"\"\"\n",
    "    render_ts = self.timestamps[:limit] if limit else self.timestamps\n",
    "    for t in render_ts:\n",
    "        timestamp = f\"{datetime.timedelta(seconds=t[0])}\"\n",
    "        timestamp = timestamp.split(\".\")[0].rjust(8, \"0\")\n",
    "        print(timestamp, t[1])\n",
    "    print(\n",
    "        \"\\nCreated using youtube-timestamper - https://ilangurudev.github.io/youtube-timestamper/\"\n",
    "    )"
   ]
  },
  {
   "cell_type": "code",
   "execution_count": null,
   "metadata": {},
   "outputs": [
    {
     "name": "stdout",
     "output_type": "stream",
     "text": [
      "00:00:00 Introduction\n",
      "00:01:08 how did he transition into data science and cargill and his journey on kaggle?\n",
      "00:02:23 can you tell us a bit more about that, chris, now that you remember of it the secret?\n",
      "00:02:48 did you get your invite to the fight clubs yet, or can you share a bit about those?\n",
      "00:04:44 then i, um i graduated with a bachelor's degree in mathematics and then, um, immediately afterwards, i?\n",
      "00:07:19 when did kaggle come into the picture? when did you find your addiction for kagan?\n",
      "00:08:28 you know you build a model and is your model more accurate than the other guy's model?\n",
      "00:10:15 how did you go from just starting your journey to today being the forex grandmaster?\n",
      "00:11:49 was it part of the enjoyment process, just getting involved, or were you making a conscious effort to? you know, maybe list down points where you need to improve?\n",
      "00:12:40 and even if a competition or something looks similar to a previous one, i say to myself: you know, what new angle can i do here? you know what new thing can i learn?\n",
      "\n",
      "Created using youtube-timestamper - https://ilangurudev.github.io/youtube-timestamper/\n"
     ]
    }
   ],
   "source": [
    "yt_timestamper._render_timestamps(limit=10)"
   ]
  },
  {
   "cell_type": "code",
   "execution_count": null,
   "metadata": {},
   "outputs": [],
   "source": [
    "# | export\n",
    "\n",
    "\n",
    "@patch\n",
    "def suggest_question_timestamps(\n",
    "    self: YoutubeTimestamper,\n",
    "    next_q_thresh: int = 15,  # The number of tokens within a question which if the next question is present, it'll be considered part of the same question\n",
    ") -> None:\n",
    "    \"\"\"Suggest timestamps based on questions found in the transcripts.\"\"\"\n",
    "    if \"self.questions\" not in vars():\n",
    "        self._get_transcript()\n",
    "        self._restore_punctuations()\n",
    "        self._get_sentences()\n",
    "    self._get_questions(next_q_thresh)\n",
    "    self._get_timestamps_for_questions()\n",
    "    self._render_timestamps()"
   ]
  },
  {
   "cell_type": "code",
   "execution_count": null,
   "metadata": {},
   "outputs": [
    {
     "name": "stdout",
     "output_type": "stream",
     "text": [
      "00:00:00 Introduction\n",
      "00:01:08 how did he transition into data science and cargill and his journey on kaggle?\n",
      "00:02:23 can you tell us a bit more about that, chris, now that you remember of it the secret?\n",
      "00:02:48 did you get your invite to the fight clubs yet, or can you share a bit about those?\n",
      "00:04:44 then i, um i graduated with a bachelor's degree in mathematics and then, um, immediately afterwards, i?\n",
      "00:07:19 when did kaggle come into the picture? when did you find your addiction for kagan?\n",
      "00:08:28 you know you build a model and is your model more accurate than the other guy's model?\n",
      "00:10:15 how did you go from just starting your journey to today being the forex grandmaster?\n",
      "00:11:49 was it part of the enjoyment process, just getting involved, or were you making a conscious effort to? you know, maybe list down points where you need to improve?\n",
      "00:12:40 and even if a competition or something looks similar to a previous one, i say to myself: you know, what new angle can i do here? you know what new thing can i learn?\n",
      "00:13:49 any favorite battle stories you that you might remember?\n",
      "00:14:33 so there's many competitions and you see the leaderboard and there's a bunch of scores and there's, you know, the top 50, they have a little bit of a jump, and there's and people in the forum say: you know magic, what's the magic?\n",
      "00:16:03 um, do you, do you have any uh, rigid approach to competitions now, or did you compete in any in parallel, or do you just stick to one? and what's your approach in general to competitions now?\n",
      "00:22:05 so, and that's something that i also enjoy very much- on the flip side, do you feel you're also losing a competitive edge?\n",
      "00:25:45 thank you, um, what advice would you have for uh, newbies who are looking to write kernels?\n",
      "00:30:58 what, what advice would you have for them? they're just chasing uh, maybe the title, since it's gamified, does it annoy you? do you have any uh advice for such people?\n",
      "00:32:51 uh, any favorite memories from discussions that you might have?\n",
      "00:34:37 and then someone says, wow, that's awesome, hey, have you thought about doing this?\n",
      "00:35:35 um, what advice would you have for people who people, many people, seek teaming up because they may be asking to just compete by themselves? but what teaming advice would you have for people in general? or what's your strategy?\n",
      "00:38:47 what's your reason for investing so much time into kagan?\n",
      "00:38:58 you know people might see it and say, why is he doing so much for the community?\n",
      "00:39:05 you know, how have i, how have i, you know, learned these ideas so well?\n",
      "00:43:49 pandas build psychic learn, okay, uh, but what, what the wrap is team doing is?\n",
      "00:45:38 is the desk data plotted on top of the train data or is the test data over here? like: is this group of images the same as this group of images?\n",
      "00:47:11 how do you, chris, how do you manage your time?\n",
      "00:47:18 what's, what's your secret to time management?\n",
      "00:49:44 but, as i said, you know, if someone's like, hey, can you? you know, can you follow the?\n",
      "00:50:30 uh, is it okay if we do a quick rapid fire questions? uh, a set of questions? so what would you like? so, would you like to me give short answers?\n",
      "00:51:12 okay, a favorite course that you've taught? uh, i'm not sure if you've taught a few or was it just a single one? oh, okay, yeah, so, uh, favorite course?\n",
      "00:52:11 do you know that? the derivative is exactly what your brain uses for you to learn something?\n",
      "00:52:38 okay, um, favorite algorithm?\n",
      "00:52:54 it's just how do you classify this guy? well, how do you class with this data point?\n",
      "00:53:55 okay, um, favorite competition that you've taken part in?\n",
      "00:55:20 you're refreshing your computer, refreshing your computer, how did i do? how did i do? it's unbelievable, right?\n",
      "01:00:28 um, what would be your favorite spot to surf? wait, favorite what sport? to windsurf?\n",
      "01:01:24 uh, your favorite way to unwind, uh, from data science or kaggle?\n",
      "\n",
      "Created using youtube-timestamper - https://ilangurudev.github.io/youtube-timestamper/\n"
     ]
    }
   ],
   "source": [
    "yt_timestamper.suggest_question_timestamps()"
   ]
  },
  {
   "cell_type": "code",
   "execution_count": null,
   "metadata": {},
   "outputs": [],
   "source": []
  }
 ],
 "metadata": {
  "kernelspec": {
   "display_name": "Python [conda env:ds]",
   "language": "python",
   "name": "conda-env-ds-py"
  }
 },
 "nbformat": 4,
 "nbformat_minor": 4
}
